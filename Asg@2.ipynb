{
 "cells": [
  {
   "cell_type": "code",
   "execution_count": 2,
   "id": "d056a17e",
   "metadata": {},
   "outputs": [],
   "source": [
    "import numpy as np\n",
    "import pandas as pd\n",
    "import matplotlib.pyplot as plt"
   ]
  },
  {
   "cell_type": "code",
   "execution_count": 168,
   "id": "05efc009",
   "metadata": {},
   "outputs": [],
   "source": [
    "## starting with the inputs"
   ]
  },
  {
   "cell_type": "code",
   "execution_count": 169,
   "id": "d448f5eb",
   "metadata": {},
   "outputs": [],
   "source": [
    "## enter the values in order(all in SI units): length, EI, nodes, elements, force"
   ]
  },
  {
   "cell_type": "code",
   "execution_count": 170,
   "id": "a1ccb240",
   "metadata": {},
   "outputs": [
    {
     "name": "stdout",
     "output_type": "stream",
     "text": [
      "Enter key & value separated by \":\", length:2\n",
      "Enter key & value separated by \":\", EI:800000\n",
      "Enter key & value separated by \":\", elements:4\n",
      "Enter key & value separated by \":\", nodes:5\n",
      "Enter key & value separated by \":\", force:-12000\n",
      "Enter key & value separated by \":\", element_length:0.5\n",
      "\n",
      "Key: length, Value: 2\n",
      "Key: EI, Value: 800000\n",
      "Key: elements, Value: 4\n",
      "Key: nodes, Value: 5\n",
      "Key: force, Value: -12000\n",
      "Key: element_length, Value: 0.5\n",
      "{'length': 2.0, 'EI': 800000.0, 'elements': 4.0, 'nodes': 5.0, 'force': -12000.0, 'element_length': 0.5}\n"
     ]
    }
   ],
   "source": [
    "inputs_list = dict() \n",
    "for i in range(6):\n",
    "    data = input('Enter key & value separated by \":\", ') \n",
    "    temp = data.split(':') \n",
    "    inputs_list[temp[0]] = temp[1] \n",
    "print()\n",
    "# Displaying the dictionary \n",
    "for key, value in inputs_list.items(): \n",
    "    inputs_list[key] = float(value)\n",
    "    print(f'Key: {key}, Value: {value}') \n",
    "print(inputs_list)"
   ]
  },
  {
   "cell_type": "code",
   "execution_count": 171,
   "id": "9df4313c",
   "metadata": {},
   "outputs": [],
   "source": [
    "t=np.array([[12,6*inputs_list['element_length'],-12,6*inputs_list['element_length']],[6*inputs_list['element_length'],4*(inputs_list['element_length'])*(inputs_list['element_length']),-6*inputs_list['element_length'],2*(inputs_list['element_length'])*(inputs_list['element_length'])],[-12,-6*inputs_list['element_length'],12,-6*inputs_list['element_length']],[6*inputs_list['element_length'],2*(inputs_list['element_length'])*(inputs_list['element_length']),-6*inputs_list['element_length'],4*(inputs_list['element_length'])*(inputs_list['element_length'])]])"
   ]
  },
  {
   "cell_type": "code",
   "execution_count": 172,
   "id": "50f870bc",
   "metadata": {},
   "outputs": [
    {
     "data": {
      "text/plain": [
       "array([[ 12. ,   3. , -12. ,   3. ],\n",
       "       [  3. ,   1. ,  -3. ,   0.5],\n",
       "       [-12. ,  -3. ,  12. ,  -3. ],\n",
       "       [  3. ,   0.5,  -3. ,   1. ]])"
      ]
     },
     "execution_count": 172,
     "metadata": {},
     "output_type": "execute_result"
    }
   ],
   "source": [
    "t"
   ]
  },
  {
   "cell_type": "code",
   "execution_count": 173,
   "id": "8e1c4422",
   "metadata": {},
   "outputs": [],
   "source": [
    "import numpy\n",
    "elementalLength = inputs_list['length'] / (int(inputs_list['elements']))\n",
    "nodesPosi = [i * elementalLength  for i in range(int(inputs_list['elements'])+1)]\n",
    "nodesPosi= numpy.transpose(nodesPosi).reshape(-1,1)"
   ]
  },
  {
   "cell_type": "code",
   "execution_count": 174,
   "id": "9e8b293b",
   "metadata": {},
   "outputs": [
    {
     "data": {
      "text/plain": [
       "array([[0. ],\n",
       "       [0.5],\n",
       "       [1. ],\n",
       "       [1.5],\n",
       "       [2. ]])"
      ]
     },
     "execution_count": 174,
     "metadata": {},
     "output_type": "execute_result"
    }
   ],
   "source": [
    "nodesPosi"
   ]
  },
  {
   "cell_type": "code",
   "execution_count": 175,
   "id": "e21609bc",
   "metadata": {},
   "outputs": [],
   "source": [
    "inputs_list['nodes'] = int(inputs_list['nodes'])"
   ]
  },
  {
   "cell_type": "code",
   "execution_count": 176,
   "id": "730bc396",
   "metadata": {},
   "outputs": [],
   "source": [
    "## global stiffness matrix, force arrangement\n",
    "kg=np.zeros((inputs_list['nodes']*2, inputs_list['nodes']*2))\n",
    "u = np.zeros((inputs_list['nodes']*2,1))\n",
    "F = np.zeros((inputs_list['nodes']*2,1))\n",
    "FE= F[:int(inputs_list['elements']),:int(inputs_list['elements'])]"
   ]
  },
  {
   "cell_type": "code",
   "execution_count": 177,
   "id": "00886aa6",
   "metadata": {},
   "outputs": [
    {
     "data": {
      "text/plain": [
       "array([[0., 0., 0., 0., 0., 0., 0., 0., 0., 0.],\n",
       "       [0., 0., 0., 0., 0., 0., 0., 0., 0., 0.],\n",
       "       [0., 0., 0., 0., 0., 0., 0., 0., 0., 0.],\n",
       "       [0., 0., 0., 0., 0., 0., 0., 0., 0., 0.],\n",
       "       [0., 0., 0., 0., 0., 0., 0., 0., 0., 0.],\n",
       "       [0., 0., 0., 0., 0., 0., 0., 0., 0., 0.],\n",
       "       [0., 0., 0., 0., 0., 0., 0., 0., 0., 0.],\n",
       "       [0., 0., 0., 0., 0., 0., 0., 0., 0., 0.],\n",
       "       [0., 0., 0., 0., 0., 0., 0., 0., 0., 0.],\n",
       "       [0., 0., 0., 0., 0., 0., 0., 0., 0., 0.]])"
      ]
     },
     "execution_count": 177,
     "metadata": {},
     "output_type": "execute_result"
    }
   ],
   "source": [
    "kg"
   ]
  },
  {
   "cell_type": "code",
   "execution_count": 178,
   "id": "8f0289de",
   "metadata": {},
   "outputs": [],
   "source": [
    "f =np.array([[inputs_list['force']*elementalLength/2],[inputs_list['force']*elementalLength*elementalLength/12],[inputs_list['force']*elementalLength/2],[inputs_list['force']*elementalLength*elementalLength/12]])"
   ]
  },
  {
   "cell_type": "code",
   "execution_count": 179,
   "id": "6757423a",
   "metadata": {},
   "outputs": [
    {
     "data": {
      "text/plain": [
       "array([[-3000.],\n",
       "       [ -250.],\n",
       "       [-3000.],\n",
       "       [ -250.]])"
      ]
     },
     "execution_count": 179,
     "metadata": {},
     "output_type": "execute_result"
    }
   ],
   "source": [
    "f"
   ]
  },
  {
   "cell_type": "code",
   "execution_count": 180,
   "id": "de3b01a6",
   "metadata": {},
   "outputs": [
    {
     "name": "stdout",
     "output_type": "stream",
     "text": [
      "Global Stiffness Matrix is:\n",
      "[[ 7.680e+07  1.920e+07 -7.680e+07  1.920e+07  0.000e+00  0.000e+00\n",
      "   0.000e+00  0.000e+00  0.000e+00  0.000e+00]\n",
      " [ 1.920e+07  6.400e+06 -1.920e+07  3.200e+06  0.000e+00  0.000e+00\n",
      "   0.000e+00  0.000e+00  0.000e+00  0.000e+00]\n",
      " [-7.680e+07 -1.920e+07  1.536e+08  0.000e+00 -7.680e+07  1.920e+07\n",
      "   0.000e+00  0.000e+00  0.000e+00  0.000e+00]\n",
      " [ 1.920e+07  3.200e+06  0.000e+00  1.280e+07 -1.920e+07  3.200e+06\n",
      "   0.000e+00  0.000e+00  0.000e+00  0.000e+00]\n",
      " [ 0.000e+00  0.000e+00 -7.680e+07 -1.920e+07  1.536e+08  0.000e+00\n",
      "  -7.680e+07  1.920e+07  0.000e+00  0.000e+00]\n",
      " [ 0.000e+00  0.000e+00  1.920e+07  3.200e+06  0.000e+00  1.280e+07\n",
      "  -1.920e+07  3.200e+06  0.000e+00  0.000e+00]\n",
      " [ 0.000e+00  0.000e+00  0.000e+00  0.000e+00 -7.680e+07 -1.920e+07\n",
      "   1.536e+08  0.000e+00 -7.680e+07  1.920e+07]\n",
      " [ 0.000e+00  0.000e+00  0.000e+00  0.000e+00  1.920e+07  3.200e+06\n",
      "   0.000e+00  1.280e+07 -1.920e+07  3.200e+06]\n",
      " [ 0.000e+00  0.000e+00  0.000e+00  0.000e+00  0.000e+00  0.000e+00\n",
      "  -7.680e+07 -1.920e+07  7.680e+07 -1.920e+07]\n",
      " [ 0.000e+00  0.000e+00  0.000e+00  0.000e+00  0.000e+00  0.000e+00\n",
      "   1.920e+07  3.200e+06 -1.920e+07  6.400e+06]]\n",
      "Global force Matrix is:\n",
      "[[    0.]\n",
      " [    0.]\n",
      " [    0.]\n",
      " [    0.]\n",
      " [-3000.]\n",
      " [ -250.]\n",
      " [-6000.]\n",
      " [ -500.]\n",
      " [-3000.]\n",
      " [ -250.]]\n"
     ]
    }
   ],
   "source": [
    "EI = inputs_list['EI']\n",
    "K = ( inputs_list['EI'] /(elementalLength*elementalLength*elementalLength) ) * t\n",
    "K1 = np.zeros((inputs_list['nodes']*2, inputs_list['nodes']*2))\n",
    "F1 = np.zeros((inputs_list['nodes']*2,1))\n",
    "for i in range(1,int(inputs_list['elements'])+1):\n",
    "    K1[2*i-2:2*i+2,2*i-2:2*i+2]= K\n",
    "    kg += K1\n",
    "    K1 = np.zeros((inputs_list['nodes']*2, inputs_list['nodes']*2))\n",
    "   # F[np.ix_(idx, idx)] += f\n",
    "print('Global Stiffness Matrix is:')\n",
    "print(kg)\n",
    "for i in range(int(inputs_list['elements'])//2+1, int(inputs_list['elements'])+1):\n",
    "    F1[2*i-2:2*i+2]= f\n",
    "    F += F1\n",
    "    F1 = np.zeros((inputs_list['nodes']*2,1))\n",
    "print('Global force Matrix is:')\n",
    "print(F)"
   ]
  },
  {
   "cell_type": "code",
   "execution_count": 181,
   "id": "f01877ed",
   "metadata": {},
   "outputs": [
    {
     "name": "stdout",
     "output_type": "stream",
     "text": [
      "[[ 1.536e+08  0.000e+00  1.920e+07  0.000e+00  0.000e+00  0.000e+00]\n",
      " [ 0.000e+00  1.280e+07  3.200e+06  0.000e+00  0.000e+00  0.000e+00]\n",
      " [ 1.920e+07  3.200e+06  1.280e+07 -1.920e+07  3.200e+06  0.000e+00]\n",
      " [ 0.000e+00  0.000e+00 -1.920e+07  1.536e+08  0.000e+00  1.920e+07]\n",
      " [ 0.000e+00  0.000e+00  3.200e+06  0.000e+00  1.280e+07  3.200e+06]\n",
      " [ 0.000e+00  0.000e+00  0.000e+00  1.920e+07  3.200e+06  6.400e+06]]\n"
     ]
    }
   ],
   "source": [
    "KGE = np.delete(kg, int(inputs_list['nodes'])//2*4, 0)\n",
    "KGE = np.delete(KGE, int(inputs_list['nodes'])-1, 0)\n",
    "KGE = np.delete(KGE, int(inputs_list['nodes'])//2*4, 1)\n",
    "KGE = np.delete(KGE, int(inputs_list['nodes'])-1, 1)\n",
    "\n",
    "KGE = np.delete(KGE, 0, 0)\n",
    "KGE = np.delete(KGE, 0, 0)\n",
    "KGE = np.delete(KGE, 0, 1)\n",
    "KGE = np.delete(KGE, 0, 1)\n",
    "print(KGE)\n"
   ]
  },
  {
   "cell_type": "code",
   "execution_count": 182,
   "id": "33927e03",
   "metadata": {},
   "outputs": [
    {
     "name": "stdout",
     "output_type": "stream",
     "text": [
      "[[    0.]\n",
      " [    0.]\n",
      " [ -250.]\n",
      " [-6000.]\n",
      " [ -500.]\n",
      " [ -250.]]\n"
     ]
    }
   ],
   "source": [
    "FGE = np.delete(F, int(inputs_list['nodes'])-1, 0)\n",
    "FGE = np.delete(FGE, int(inputs_list['nodes'])//2*4-1, 0)\n",
    "FGE = np.delete(FGE, 0, 0)\n",
    "FGE = np.delete(FGE, 0, 0)\n",
    "print(FGE)"
   ]
  },
  {
   "cell_type": "code",
   "execution_count": 183,
   "id": "e99117e8",
   "metadata": {},
   "outputs": [
    {
     "name": "stdout",
     "output_type": "stream",
     "text": [
      "[[ 2.65066964e-05]\n",
      " [ 5.30133929e-05]\n",
      " [-2.12053571e-04]\n",
      " [-1.03236607e-04]\n",
      " [-6.13839286e-05]\n",
      " [ 3.01339286e-04]]\n"
     ]
    }
   ],
   "source": [
    "uE = np.linalg.solve(KGE, FGE)\n",
    "print(uE)"
   ]
  },
  {
   "cell_type": "code",
   "execution_count": 184,
   "id": "4e0d272a",
   "metadata": {},
   "outputs": [],
   "source": [
    "r = np.zeros((int(inputs_list['nodes'])*2, 1))"
   ]
  },
  {
   "cell_type": "code",
   "execution_count": 185,
   "id": "9390b23e",
   "metadata": {},
   "outputs": [
    {
     "ename": "SyntaxError",
     "evalue": "invalid syntax (1260028833.py, line 1)",
     "output_type": "error",
     "traceback": [
      "\u001b[1;36m  Cell \u001b[1;32mIn[185], line 1\u001b[1;36m\u001b[0m\n\u001b[1;33m    r[2:int(inputs_list['elements'])+1]=uE(0:int(inputs_list['elements'])-1)\u001b[0m\n\u001b[1;37m                                            ^\u001b[0m\n\u001b[1;31mSyntaxError\u001b[0m\u001b[1;31m:\u001b[0m invalid syntax\n"
     ]
    }
   ],
   "source": [
    "r[2:int(inputs_list['elements'])+1]=uE(0:int(inputs_list['elements'])-1)"
   ]
  },
  {
   "cell_type": "code",
   "execution_count": 186,
   "id": "ce9f4db4",
   "metadata": {},
   "outputs": [
    {
     "name": "stdout",
     "output_type": "stream",
     "text": [
      "[0.00476192 0.0005209  0.00029773 0.0022174  0.00440492]\n",
      "[-2.32143750e-03 -2.17617188e-04  6.25000000e-08 -1.28226563e-04\n",
      "  1.87500000e-07]\n"
     ]
    }
   ],
   "source": [
    "#Analytical Soln\n",
    "slope = np.zeros(int(inputs_list['nodes']))\n",
    "for i in range(int(inputs_list['nodes'])):\n",
    "        slope[i] = 1/(int(inputs_list['EI']))*(-18000*nodesPosi[i] + 6000*nodesPosi[i]**2 - 2000*(nodesPosi[i]-(int(inputs_list['length'])/2))**3 + 4071.45*nodesPosi[i]*int(inputs_list['length']) - 4071.45*nodesPosi[i]**2 + 4071.45*(nodesPosi[i]-(int(inputs_list['length'])/3))**2+ 5142.9*nodesPosi[i]*int(inputs_list['length']) - 2571.45*nodesPosi[i]**2)\n",
    "print(slope)\n",
    "UA = np.zeros(int(inputs_list['nodes']))\n",
    "for i in range(int(inputs_list['nodes'])):\n",
    "        UA[i] = 1/(int(inputs_list['EI']))*(-9000*nodesPosi[i]**2 + 2000*nodesPosi[i]**3 - 500*(nodesPosi[i]-(int(inputs_list['length'])/2))**4 + 2035.725*(nodesPosi[i]**2)*int(inputs_list['length']) - 1357.15*nodesPosi[i]**3 + 1357.15*(nodesPosi[i]-(int(inputs_list['length'])/2))**3+ 2571.45*(nodesPosi[i]**2)*int(inputs_list['length']) - 857.15*nodesPosi[i]**3)\n",
    "print(UA)"
   ]
  },
  {
   "cell_type": "code",
   "execution_count": 187,
   "id": "a9f3d716",
   "metadata": {},
   "outputs": [
    {
     "name": "stdout",
     "output_type": "stream",
     "text": [
      "[ 0.00000000e+00  2.65066964e-05  0.00000000e+00 -1.03236607e-04\n",
      "  3.01339286e-04]\n",
      "[ 0.00000000e+00  5.30133929e-05 -2.12053571e-04 -6.13839286e-05\n",
      "  3.01339286e-04]\n"
     ]
    }
   ],
   "source": [
    "U = np.zeros((int(inputs_list['nodes'])*2, 1))\n",
    "U[2:int(inputs_list['elements'])] = uE[0:int(inputs_list['elements'])-2]\n",
    "U[int(inputs_list['elements'])+1:len(U)-1] = uE[int(inputs_list['elements'])-2:len(uE)]\n",
    "U[-1] = uE[-1]\n",
    "Deflection = np.zeros(int(inputs_list['nodes']))\n",
    "Slope = np.zeros(int(inputs_list['nodes']))\n",
    "for i in range(int(inputs_list['nodes'])):\n",
    "    Deflection[i] = U[2*i]\n",
    "    Slope[i] = U[2*i+1]\n",
    "print(Deflection)\n",
    "print(Slope)"
   ]
  },
  {
   "cell_type": "code",
   "execution_count": 188,
   "id": "ae560d8a",
   "metadata": {},
   "outputs": [],
   "source": [
    "##plotting"
   ]
  },
  {
   "cell_type": "code",
   "execution_count": 189,
   "id": "0f262d11",
   "metadata": {},
   "outputs": [
    {
     "data": {
      "text/plain": [
       "<matplotlib.legend.Legend at 0x1801809f400>"
      ]
     },
     "execution_count": 189,
     "metadata": {},
     "output_type": "execute_result"
    },
    {
     "data": {
      "image/png": "[encoded data removed]",
      "text/plain": [
       "<Figure size 640x480 with 2 Axes>"
      ]
     },
     "metadata": {},
     "output_type": "display_data"
    }
   ],
   "source": [
    "x = nodesPosi\n",
    "y1 = UA\n",
    "y2 = Deflection\n",
    "z1 = slope\n",
    "z2 = Slope\n",
    "figure,axes = plt.subplots(2,1)\n",
    "# axes[0] = fig.add_axes([0,0,1,1])\n",
    "axes[0].plot(x,y1,color=\"green\",lw=2,ls=\"--\",marker='o',markersize=3,label='analytical_deflection')\n",
    "axes[0].plot(x,y2,color=\"red\",lw=2,ls=\"-\",marker='+',markersize=7,label='numerical_deflection')\n",
    "plt.xlabel(\"nodal locations \")\n",
    "plt.ylabel(\"Magnitude\")\n",
    " #   plt.title(\"Analytical vs Numerical\",pad=10)\n",
    "axes[0].legend()\n",
    "# axes[1] = fig.add_axes([0,0,1,1])\n",
    "axes[1].plot(x,z1,color=\"green\",lw=2,ls=\"--\",marker='o',markersize=5,label='analytical_slope')\n",
    "axes[1].plot(x,z2,color=\"red\",lw=2,ls=\"--\",marker='o',markersize=5,label='numerical_slope')\n",
    "plt.xlabel(\"nodal locations \")\n",
    "plt.ylabel(\"Magnitude\")\n",
    "#   plt.title(\"uN-uA\")\n",
    "axes[1].legend()"
   ]
  },
  {
   "cell_type": "code",
   "execution_count": 5,
   "id": "0ece6f58",
   "metadata": {},
   "outputs": [],
   "source": [
    "a = np.zeros((2,2))"
   ]
  },
  {
   "cell_type": "code",
   "execution_count": 6,
   "id": "94a337bd",
   "metadata": {},
   "outputs": [
    {
     "data": {
      "text/plain": [
       "array([[0., 0.],\n",
       "       [0., 0.]])"
      ]
     },
     "execution_count": 6,
     "metadata": {},
     "output_type": "execute_result"
    }
   ],
   "source": [
    "a"
   ]
  },
  {
   "cell_type": "code",
   "execution_count": null,
   "id": "ce958780",
   "metadata": {},
   "outputs": [],
   "source": []
  }
 ],
 "metadata": {
  "kernelspec": {
   "display_name": "Python 3 (ipykernel)",
   "language": "python",
   "name": "python3"
  },
  "language_info": {
   "codemirror_mode": {
    "name": "ipython",
    "version": 3
   },
   "file_extension": ".py",
   "mimetype": "text/x-python",
   "name": "python",
   "nbconvert_exporter": "python",
   "pygments_lexer": "ipython3",
   "version": "3.10.9"
  }
 },
 "nbformat": 4,
 "nbformat_minor": 5
}
